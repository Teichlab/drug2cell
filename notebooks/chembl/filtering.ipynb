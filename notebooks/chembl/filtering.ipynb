{
 "cells": [
  {
   "cell_type": "code",
   "execution_count": 1,
   "metadata": {},
   "outputs": [],
   "source": [
    "import pandas as pd\n",
    "import drug2cell as d2c"
   ]
  },
  {
   "cell_type": "markdown",
   "metadata": {},
   "source": [
    "Load the human targets ChEMBL data frame created in the initial parsing notebook."
   ]
  },
  {
   "cell_type": "code",
   "execution_count": 2,
   "metadata": {},
   "outputs": [],
   "source": [
    "original = pd.read_pickle(\"chembl_30_merged_genesymbols_humans.pkl\")"
   ]
  },
  {
   "cell_type": "markdown",
   "metadata": {},
   "source": [
    "Drug2cell's filtering functions allow for subsetting the pchembl threshold for each category of a column of choice. We'll be using the `target_class` column, and basing our values on https://druggablegenome.net/ProteinFam"
   ]
  },
  {
   "cell_type": "code",
   "execution_count": 3,
   "metadata": {},
   "outputs": [],
   "source": [
    "#pChEMBL is -log10() as per https://chembl.gitbook.io/chembl-interface-documentation/frequently-asked-questions/chembl-data-questions#what-is-pchembl\n",
    "thresholds_dict={\n",
    "    'none':7.53, #30nM\n",
    "    'NHR':7, #100nM\n",
    "    'GPCR':7, #100nM\n",
    "    'Ion Channel':5, #10uM\n",
    "    'Kinase':6, #1uM\n",
    "}"
   ]
  },
  {
   "cell_type": "markdown",
   "metadata": {},
   "source": [
    "We'll add some more criteria to the filtering. For a comprehensive list of available options, consult the documentation."
   ]
  },
  {
   "cell_type": "code",
   "execution_count": 4,
   "metadata": {},
   "outputs": [
    {
     "name": "stderr",
     "output_type": "stream",
     "text": [
      "/home/jovyan/my-conda-envs/d2c/lib/python3.8/site-packages/pandas/core/indexing.py:1817: SettingWithCopyWarning: \n",
      "A value is trying to be set on a copy of a slice from a DataFrame.\n",
      "Try using .loc[row_indexer,col_indexer] = value instead\n",
      "\n",
      "See the caveats in the documentation: https://pandas.pydata.org/pandas-docs/stable/user_guide/indexing.html#returning-a-view-versus-a-copy\n",
      "  self._setitem_single_column(loc, value, pi)\n"
     ]
    },
    {
     "name": "stdout",
     "output_type": "stream",
     "text": [
      "(38619, 55)\n"
     ]
    }
   ],
   "source": [
    "filtered_df = d2c.chembl.filter_activities(\n",
    "    dataframe=original,\n",
    "    drug_max_phase=4,\n",
    "    assay_type='F',\n",
    "    add_drug_mechanism=True,\n",
    "    remove_inactive=True,\n",
    "    include_active=True,\n",
    "    pchembl_target_column=\"target_class\",\n",
    "    pchembl_threshold=thresholds_dict\n",
    ")\n",
    "print(filtered_df.shape)"
   ]
  },
  {
   "cell_type": "markdown",
   "metadata": {},
   "source": [
    "Now that we have our data frame subset to the drugs and targets of interest, we can convert them into a dictionary that can  be used by drug2cell. The exact form distributed with the package was created like so:"
   ]
  },
  {
   "cell_type": "code",
   "execution_count": 5,
   "metadata": {},
   "outputs": [
    {
     "data": {
      "text/plain": [
       "{'CHEMBL1622|FOLIC ACID': ['HSD17B10'],\n",
       " 'CHEMBL1963684|PEGINESATIDE ACETATE': ['EPOR'],\n",
       " 'CHEMBL3707314|METHOXY POLYETHYLENE GLYCOL-EPOETIN BETA': ['EPOR'],\n",
       " 'CHEMBL3039545|LUSPATERCEPT': ['TGFB1', 'TGFB3', 'TGFB2'],\n",
       " 'CHEMBL1201566|DARBEPOETIN ALFA': ['EPOR'],\n",
       " 'CHEMBL2109092|EPOETIN BETA': ['EPOR'],\n",
       " 'CHEMBL1705709|SODIUM FEREDETATE': ['NFE2L2']}"
      ]
     },
     "execution_count": 5,
     "metadata": {},
     "output_type": "execute_result"
    }
   ],
   "source": [
    "chembldict = d2c.chembl.create_drug_dictionary(\n",
    "    filtered_df,\n",
    "    drug_grouping='ATC_level'\n",
    ")\n",
    "chembldict['B03']"
   ]
  },
  {
   "cell_type": "markdown",
   "metadata": {},
   "source": [
    "This results in a nested dictionary structure - a dictionary of categories, holding dictionaries of drugs, holding lists of targets. Drug2cell knows how to operate with this sort of structure as well as its normal groups:targets dictionary, but you need to specify `nested=True` in the scoring/enrichment/overrepresentation functions whenever you pass this structure."
   ]
  }
 ],
 "metadata": {
  "kernelspec": {
   "display_name": "Python 3",
   "language": "python",
   "name": "python3"
  },
  "language_info": {
   "codemirror_mode": {
    "name": "ipython",
    "version": 3
   },
   "file_extension": ".py",
   "mimetype": "text/x-python",
   "name": "python",
   "nbconvert_exporter": "python",
   "pygments_lexer": "ipython3",
   "version": "3.7.6"
  }
 },
 "nbformat": 4,
 "nbformat_minor": 5
}
